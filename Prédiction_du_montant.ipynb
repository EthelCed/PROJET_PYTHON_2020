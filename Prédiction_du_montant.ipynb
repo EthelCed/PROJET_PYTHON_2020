{
 "cells": [
  {
   "cell_type": "markdown",
   "metadata": {},
   "source": [
    "L'objet de cette étude est de mettre en place un modèle de prédiction du montant de la transaction immobilière d'un bien à partir de caractéristiques observables du bien (surface, nombre de pièces, ...) et de variables sur l'environnement du bien (niveau de vie alentour, nombre de commerces alentours, densité de la population, ...). Cette [page](http://doc-datafoncier.cerema.fr/dv3f/tuto/g1_denombrer#notion-de-parcelles-mutees-parcelles-concernees) présente la définition des concepts **mutation, parcelle, local**."
   ]
  },
  {
   "cell_type": "code",
   "execution_count": 1,
   "metadata": {},
   "outputs": [],
   "source": [
    "# Chargement des différents modules de travail\n",
    "import numpy as np\n",
    "import pandas as pd\n",
    "import seaborn as sns\n",
    "import matplotlib.pyplot as plt\n",
    "%matplotlib inline\n",
    "from bokeh import __version__ as bk_version"
   ]
  },
  {
   "cell_type": "markdown",
   "metadata": {},
   "source": [
    "# 1. Chargement du jeu de données"
   ]
  },
  {
   "cell_type": "markdown",
   "metadata": {},
   "source": [
    "Le jeu de données utilisée dans le cadre de ce travail porte sur la Demande de Valeurs Foncières en Île-de-France au cours du 3e trimestre de l'année 2020. Les données sont disponibles en open source au format SQL via ce [lien](https://cerema.app.box.com/v/dvfplus-opendata/folder/125288298156). Nous les avons importés sur PostgreSQL, traités, puis convertis au format csv. Le jeu de données final, d'une taille de 12Go, est accessible à partir de ce [lien](https://drive.google.com/file/d/1mEpp7Mi6VuezR4OI-cVEHPbfu4Gn_A2v/view?usp=sharing). Dans le cadre de ce projet, nous chargerons le jeu de données à partir du fichier csv sauvegardé en local et non à partir du lien précédent afin de limiter le temps de chargement."
   ]
  },
  {
   "cell_type": "code",
   "execution_count": 2,
   "metadata": {},
   "outputs": [
    {
     "name": "stderr",
     "output_type": "stream",
     "text": [
      "C:\\Users\\ethel\\Anaconda3\\lib\\site-packages\\IPython\\core\\interactiveshell.py:3058: DtypeWarning: Columns (75,76,77,78) have mixed types. Specify dtype option on import or set low_memory=False.\n",
      "  interactivity=interactivity, compiler=compiler, result=result)\n"
     ]
    },
    {
     "data": {
      "text/html": [
       "<div>\n",
       "<style scoped>\n",
       "    .dataframe tbody tr th:only-of-type {\n",
       "        vertical-align: middle;\n",
       "    }\n",
       "\n",
       "    .dataframe tbody tr th {\n",
       "        vertical-align: top;\n",
       "    }\n",
       "\n",
       "    .dataframe thead th {\n",
       "        text-align: right;\n",
       "    }\n",
       "</style>\n",
       "<table border=\"1\" class=\"dataframe\">\n",
       "  <thead>\n",
       "    <tr style=\"text-align: right;\">\n",
       "      <th></th>\n",
       "      <th>idmutation</th>\n",
       "      <th>idmutinvar</th>\n",
       "      <th>idopendata</th>\n",
       "      <th>idnatmut</th>\n",
       "      <th>codservch</th>\n",
       "      <th>refdoc</th>\n",
       "      <th>datemut</th>\n",
       "      <th>anneemut</th>\n",
       "      <th>moismut</th>\n",
       "      <th>coddep</th>\n",
       "      <th>...</th>\n",
       "      <th>dcntsol</th>\n",
       "      <th>dcntagri</th>\n",
       "      <th>dcntnat</th>\n",
       "      <th>geomloc</th>\n",
       "      <th>iddispoloc</th>\n",
       "      <th>idloc</th>\n",
       "      <th>identloc</th>\n",
       "      <th>codtyploc</th>\n",
       "      <th>libtyploc</th>\n",
       "      <th>nbpprinc</th>\n",
       "    </tr>\n",
       "  </thead>\n",
       "  <tbody>\n",
       "    <tr>\n",
       "      <td>0</td>\n",
       "      <td>5696253</td>\n",
       "      <td>0003154725d80f31b57df8e5261e0d21</td>\n",
       "      <td>0003154725d80f31b57df8e5261e0d21</td>\n",
       "      <td>1</td>\n",
       "      <td>NaN</td>\n",
       "      <td>NaN</td>\n",
       "      <td>2020-06-17</td>\n",
       "      <td>2020</td>\n",
       "      <td>6</td>\n",
       "      <td>75</td>\n",
       "      <td>...</td>\n",
       "      <td>0</td>\n",
       "      <td>0</td>\n",
       "      <td>0</td>\n",
       "      <td>01010000206A080000BE58DF27F4E62341AD782A6A1B31...</td>\n",
       "      <td>6451332</td>\n",
       "      <td>751180007019389_0</td>\n",
       "      <td>NaN</td>\n",
       "      <td>2</td>\n",
       "      <td>Appartement</td>\n",
       "      <td>2.0</td>\n",
       "    </tr>\n",
       "    <tr>\n",
       "      <td>1</td>\n",
       "      <td>5696254</td>\n",
       "      <td>000776c9eee895fa6d74b8efbc2468ff</td>\n",
       "      <td>000776c9eee895fa6d74b8efbc2468ff</td>\n",
       "      <td>1</td>\n",
       "      <td>NaN</td>\n",
       "      <td>NaN</td>\n",
       "      <td>2020-02-21</td>\n",
       "      <td>2020</td>\n",
       "      <td>2</td>\n",
       "      <td>75</td>\n",
       "      <td>...</td>\n",
       "      <td>0</td>\n",
       "      <td>0</td>\n",
       "      <td>0</td>\n",
       "      <td>01010000206A080000C8C7AFE3EDC92341643E8026992F...</td>\n",
       "      <td>6451333</td>\n",
       "      <td>751170007015918_0</td>\n",
       "      <td>NaN</td>\n",
       "      <td>2</td>\n",
       "      <td>Appartement</td>\n",
       "      <td>4.0</td>\n",
       "    </tr>\n",
       "    <tr>\n",
       "      <td>2</td>\n",
       "      <td>5696255</td>\n",
       "      <td>000bc2a840803f94362673d0e64c3297</td>\n",
       "      <td>000bc2a840803f94362673d0e64c3297</td>\n",
       "      <td>1</td>\n",
       "      <td>NaN</td>\n",
       "      <td>NaN</td>\n",
       "      <td>2020-04-20</td>\n",
       "      <td>2020</td>\n",
       "      <td>4</td>\n",
       "      <td>75</td>\n",
       "      <td>...</td>\n",
       "      <td>0</td>\n",
       "      <td>0</td>\n",
       "      <td>0</td>\n",
       "      <td>01010000206A0800003AD3753CFEC92341748E35BE552B...</td>\n",
       "      <td>6451334</td>\n",
       "      <td>751150007012059_0</td>\n",
       "      <td>NaN</td>\n",
       "      <td>2</td>\n",
       "      <td>Appartement</td>\n",
       "      <td>3.0</td>\n",
       "    </tr>\n",
       "    <tr>\n",
       "      <td>3</td>\n",
       "      <td>5696256</td>\n",
       "      <td>000ead66a3820fb83d6712909a5e851c</td>\n",
       "      <td>000ead66a3820fb83d6712909a5e851c</td>\n",
       "      <td>1</td>\n",
       "      <td>NaN</td>\n",
       "      <td>NaN</td>\n",
       "      <td>2020-02-14</td>\n",
       "      <td>2020</td>\n",
       "      <td>2</td>\n",
       "      <td>75</td>\n",
       "      <td>...</td>\n",
       "      <td>0</td>\n",
       "      <td>0</td>\n",
       "      <td>0</td>\n",
       "      <td>01010000206A08000064ADD32274C923410A1108085D2C...</td>\n",
       "      <td>6451335</td>\n",
       "      <td>751150007011544_0</td>\n",
       "      <td>NaN</td>\n",
       "      <td>2</td>\n",
       "      <td>Appartement</td>\n",
       "      <td>3.0</td>\n",
       "    </tr>\n",
       "    <tr>\n",
       "      <td>4</td>\n",
       "      <td>5696257</td>\n",
       "      <td>000f5a25745deedf89acbf6320deac8d</td>\n",
       "      <td>000f5a25745deedf89acbf6320deac8d</td>\n",
       "      <td>1</td>\n",
       "      <td>NaN</td>\n",
       "      <td>NaN</td>\n",
       "      <td>2020-01-23</td>\n",
       "      <td>2020</td>\n",
       "      <td>1</td>\n",
       "      <td>75</td>\n",
       "      <td>...</td>\n",
       "      <td>0</td>\n",
       "      <td>0</td>\n",
       "      <td>0</td>\n",
       "      <td>01010000206A080000D3582C40B5E223419404D4DEDD30...</td>\n",
       "      <td>6451336</td>\n",
       "      <td>751180007017585_0</td>\n",
       "      <td>NaN</td>\n",
       "      <td>2</td>\n",
       "      <td>Appartement</td>\n",
       "      <td>1.0</td>\n",
       "    </tr>\n",
       "  </tbody>\n",
       "</table>\n",
       "<p>5 rows × 102 columns</p>\n",
       "</div>"
      ],
      "text/plain": [
       "   idmutation                        idmutinvar  \\\n",
       "0     5696253  0003154725d80f31b57df8e5261e0d21   \n",
       "1     5696254  000776c9eee895fa6d74b8efbc2468ff   \n",
       "2     5696255  000bc2a840803f94362673d0e64c3297   \n",
       "3     5696256  000ead66a3820fb83d6712909a5e851c   \n",
       "4     5696257  000f5a25745deedf89acbf6320deac8d   \n",
       "\n",
       "                         idopendata  idnatmut  codservch  refdoc     datemut  \\\n",
       "0  0003154725d80f31b57df8e5261e0d21         1        NaN     NaN  2020-06-17   \n",
       "1  000776c9eee895fa6d74b8efbc2468ff         1        NaN     NaN  2020-02-21   \n",
       "2  000bc2a840803f94362673d0e64c3297         1        NaN     NaN  2020-04-20   \n",
       "3  000ead66a3820fb83d6712909a5e851c         1        NaN     NaN  2020-02-14   \n",
       "4  000f5a25745deedf89acbf6320deac8d         1        NaN     NaN  2020-01-23   \n",
       "\n",
       "   anneemut  moismut  coddep  ... dcntsol  dcntagri  dcntnat  \\\n",
       "0      2020        6      75  ...       0         0        0   \n",
       "1      2020        2      75  ...       0         0        0   \n",
       "2      2020        4      75  ...       0         0        0   \n",
       "3      2020        2      75  ...       0         0        0   \n",
       "4      2020        1      75  ...       0         0        0   \n",
       "\n",
       "                                             geomloc  iddispoloc  \\\n",
       "0  01010000206A080000BE58DF27F4E62341AD782A6A1B31...     6451332   \n",
       "1  01010000206A080000C8C7AFE3EDC92341643E8026992F...     6451333   \n",
       "2  01010000206A0800003AD3753CFEC92341748E35BE552B...     6451334   \n",
       "3  01010000206A08000064ADD32274C923410A1108085D2C...     6451335   \n",
       "4  01010000206A080000D3582C40B5E223419404D4DEDD30...     6451336   \n",
       "\n",
       "               idloc  identloc  codtyploc    libtyploc  nbpprinc  \n",
       "0  751180007019389_0       NaN          2  Appartement       2.0  \n",
       "1  751170007015918_0       NaN          2  Appartement       4.0  \n",
       "2  751150007012059_0       NaN          2  Appartement       3.0  \n",
       "3  751150007011544_0       NaN          2  Appartement       3.0  \n",
       "4  751180007017585_0       NaN          2  Appartement       1.0  \n",
       "\n",
       "[5 rows x 102 columns]"
      ]
     },
     "execution_count": 2,
     "metadata": {},
     "output_type": "execute_result"
    }
   ],
   "source": [
    "# Chargement du jeu de données (sauvegardé en local)\n",
    "idf = pd.read_csv('C:/PROJET_PYTHON_DVF/idf/idf.csv')\n",
    "idf.head()"
   ]
  },
  {
   "cell_type": "code",
   "execution_count": 3,
   "metadata": {},
   "outputs": [],
   "source": [
    "# On copie le jeu de données (afin d'éviter de proceder au chargement du jeu de données à plusieurs reprises)\n",
    "idfcopy = idf.copy()"
   ]
  },
  {
   "cell_type": "markdown",
   "metadata": {},
   "source": [
    "Dans le cadre de nos travaux, nous nous limiterons au département de Paris (code département = 75)"
   ]
  },
  {
   "cell_type": "code",
   "execution_count": 4,
   "metadata": {},
   "outputs": [
    {
     "data": {
      "text/plain": [
       "(387360, 102)"
      ]
     },
     "execution_count": 4,
     "metadata": {},
     "output_type": "execute_result"
    }
   ],
   "source": [
    "# On filtre le département 75 (Paris)\n",
    "df = idf[idf['coddep'] == 75]\n",
    "df.shape"
   ]
  },
  {
   "cell_type": "code",
   "execution_count": 5,
   "metadata": {},
   "outputs": [
    {
     "name": "stderr",
     "output_type": "stream",
     "text": [
      "C:\\Users\\ethel\\Anaconda3\\lib\\site-packages\\ipykernel_launcher.py:2: SettingWithCopyWarning: \n",
      "A value is trying to be set on a copy of a slice from a DataFrame.\n",
      "Try using .loc[row_indexer,col_indexer] = value instead\n",
      "\n",
      "See the caveats in the documentation: http://pandas.pydata.org/pandas-docs/stable/user_guide/indexing.html#returning-a-view-versus-a-copy\n",
      "  \n"
     ]
    },
    {
     "data": {
      "text/plain": [
       "0    75118\n",
       "1    75117\n",
       "2    75115\n",
       "3    75115\n",
       "4    75118\n",
       "Name: com, dtype: int64"
      ]
     },
     "execution_count": 5,
     "metadata": {},
     "output_type": "execute_result"
    }
   ],
   "source": [
    "# On crée la variable com (code commune) à 5 positions en concatenant coddep (2 positions) et codcomm (3 positions). Cette variable nous permettra de joindre le jeu de données df avec des données exetrnes.\n",
    "df['com'] =  (pd.DataFrame(df['coddep'].to_numpy(dtype=\"str\")) + pd.DataFrame(df['codcomm'].to_numpy(dtype=\"str\"))).astype ('int64')\n",
    "df['com'].head()"
   ]
  },
  {
   "cell_type": "markdown",
   "metadata": {},
   "source": [
    "Le jeu de données **df** contient des données sur les transactions immobilières ayant eu lieu au sein du département de Paris. A ce jeu de données, nous allons ajouter des données exetrnes relatives à l'environnement des biens faisant l'objet d'une transaction mobilière (niveau de vie alentour, nbre de commerces alentours, densité de la population, ...)"
   ]
  },
  {
   "cell_type": "markdown",
   "metadata": {},
   "source": [
    "- **Nombre de commerces alentours**"
   ]
  },
  {
   "cell_type": "markdown",
   "metadata": {},
   "source": [
    "Les données relatives au nombre de commerces par commune en 2020 en France sont accessibles sur le site de l'Insee à partir de ce [lien](https://www.insee.fr/fr/statistiques/fichier/3568602/equip-serv-commerce-infra-2019.xlsx). Nous les avons téléchargées et traitées sur Excel. Les données utilisées ci-dessous ne portent que sur les communes du département de Paris."
   ]
  },
  {
   "cell_type": "code",
   "execution_count": 6,
   "metadata": {},
   "outputs": [
    {
     "data": {
      "text/html": [
       "<div>\n",
       "<style scoped>\n",
       "    .dataframe tbody tr th:only-of-type {\n",
       "        vertical-align: middle;\n",
       "    }\n",
       "\n",
       "    .dataframe tbody tr th {\n",
       "        vertical-align: top;\n",
       "    }\n",
       "\n",
       "    .dataframe thead th {\n",
       "        text-align: right;\n",
       "    }\n",
       "</style>\n",
       "<table border=\"1\" class=\"dataframe\">\n",
       "  <thead>\n",
       "    <tr style=\"text-align: right;\">\n",
       "      <th></th>\n",
       "      <th>com</th>\n",
       "      <th>nbrcomm</th>\n",
       "    </tr>\n",
       "  </thead>\n",
       "  <tbody>\n",
       "    <tr>\n",
       "      <td>0</td>\n",
       "      <td>75101</td>\n",
       "      <td>1338</td>\n",
       "    </tr>\n",
       "    <tr>\n",
       "      <td>1</td>\n",
       "      <td>75102</td>\n",
       "      <td>996</td>\n",
       "    </tr>\n",
       "    <tr>\n",
       "      <td>2</td>\n",
       "      <td>75103</td>\n",
       "      <td>975</td>\n",
       "    </tr>\n",
       "    <tr>\n",
       "      <td>3</td>\n",
       "      <td>75104</td>\n",
       "      <td>1012</td>\n",
       "    </tr>\n",
       "    <tr>\n",
       "      <td>4</td>\n",
       "      <td>75105</td>\n",
       "      <td>787</td>\n",
       "    </tr>\n",
       "  </tbody>\n",
       "</table>\n",
       "</div>"
      ],
      "text/plain": [
       "     com  nbrcomm\n",
       "0  75101     1338\n",
       "1  75102      996\n",
       "2  75103      975\n",
       "3  75104     1012\n",
       "4  75105      787"
      ]
     },
     "execution_count": 6,
     "metadata": {},
     "output_type": "execute_result"
    }
   ],
   "source": [
    "# Importation des données relatives au nombre de commerces par commune au sein du département de Paris\n",
    "commer = pd.read_excel('C:/PROJET_PYTHON_DVF/idf/Commerces_2020.xlsx')\n",
    "commer.head()"
   ]
  },
  {
   "cell_type": "markdown",
   "metadata": {},
   "source": [
    "Le dataframe **commer** donne la répartition du nombre de commerces (**nbrcomm**) par commune (**com**) au sein du département de **Paris**. Nous allons le joindre au dataframe **df**"
   ]
  },
  {
   "cell_type": "code",
   "execution_count": 7,
   "metadata": {},
   "outputs": [
    {
     "data": {
      "text/plain": [
       "count    387360.000000\n",
       "mean       1529.734825\n",
       "std         378.902245\n",
       "min         787.000000\n",
       "25%        1193.000000\n",
       "50%        1650.000000\n",
       "75%        1878.000000\n",
       "max        2089.000000\n",
       "Name: nbrcomm, dtype: float64"
      ]
     },
     "execution_count": 7,
     "metadata": {},
     "output_type": "execute_result"
    }
   ],
   "source": [
    "# Jointure des dataframes df et commer par rapport au code de la commune\n",
    "df = pd.merge(left=df, right=commer, on='com')\n",
    "df['nbrcomm'].describe()"
   ]
  },
  {
   "cell_type": "markdown",
   "metadata": {},
   "source": [
    "- **Niveau de vie alentour**"
   ]
  },
  {
   "cell_type": "markdown",
   "metadata": {},
   "source": [
    "Les données relatives au salaire horaire net moyen par commune (utilisé comme proxy au niveau de vie) par commune en 2020 en France sont accessibles sur le site de l'Insee à partir de ce [lien](https://www.insee.fr/fr/statistiques/fichier/2021266/base-cc-dads-2017.zip). Nous les avons téléchargées et traitées sur Excel. Les données utilisées ci-dessous ne portent que sur les communes du département de Paris."
   ]
  },
  {
   "cell_type": "code",
   "execution_count": 8,
   "metadata": {},
   "outputs": [
    {
     "data": {
      "text/html": [
       "<div>\n",
       "<style scoped>\n",
       "    .dataframe tbody tr th:only-of-type {\n",
       "        vertical-align: middle;\n",
       "    }\n",
       "\n",
       "    .dataframe tbody tr th {\n",
       "        vertical-align: top;\n",
       "    }\n",
       "\n",
       "    .dataframe thead th {\n",
       "        text-align: right;\n",
       "    }\n",
       "</style>\n",
       "<table border=\"1\" class=\"dataframe\">\n",
       "  <thead>\n",
       "    <tr style=\"text-align: right;\">\n",
       "      <th></th>\n",
       "      <th>com</th>\n",
       "      <th>salaireh</th>\n",
       "    </tr>\n",
       "  </thead>\n",
       "  <tbody>\n",
       "    <tr>\n",
       "      <td>0</td>\n",
       "      <td>75101</td>\n",
       "      <td>28.113462</td>\n",
       "    </tr>\n",
       "    <tr>\n",
       "      <td>1</td>\n",
       "      <td>75102</td>\n",
       "      <td>25.081638</td>\n",
       "    </tr>\n",
       "    <tr>\n",
       "      <td>2</td>\n",
       "      <td>75103</td>\n",
       "      <td>26.818194</td>\n",
       "    </tr>\n",
       "    <tr>\n",
       "      <td>3</td>\n",
       "      <td>75104</td>\n",
       "      <td>25.638840</td>\n",
       "    </tr>\n",
       "    <tr>\n",
       "      <td>4</td>\n",
       "      <td>75105</td>\n",
       "      <td>27.351514</td>\n",
       "    </tr>\n",
       "  </tbody>\n",
       "</table>\n",
       "</div>"
      ],
      "text/plain": [
       "     com   salaireh\n",
       "0  75101  28.113462\n",
       "1  75102  25.081638\n",
       "2  75103  26.818194\n",
       "3  75104  25.638840\n",
       "4  75105  27.351514"
      ]
     },
     "execution_count": 8,
     "metadata": {},
     "output_type": "execute_result"
    }
   ],
   "source": [
    "# Importation des données relatives au salaire horaire net moyen par commune au sein du département de Paris\n",
    "salaire = pd.read_excel('C:/PROJET_PYTHON_DVF/idf/Salaires_2020.xlsx')\n",
    "salaire.head()"
   ]
  },
  {
   "cell_type": "markdown",
   "metadata": {},
   "source": [
    "Le dataframe **salaire** donne la répartition du salaire horaire net moyen (**salaireh**) par commune (**com**) au sein du département de **Paris**. Nous allons le joindre au dataframe **df**"
   ]
  },
  {
   "cell_type": "code",
   "execution_count": 9,
   "metadata": {},
   "outputs": [
    {
     "data": {
      "text/plain": [
       "count    387360.000000\n",
       "mean         24.790881\n",
       "std           7.123584\n",
       "min          16.440238\n",
       "25%          18.595066\n",
       "50%          23.395571\n",
       "75%          27.082541\n",
       "max          41.337003\n",
       "Name: salaireh, dtype: float64"
      ]
     },
     "execution_count": 9,
     "metadata": {},
     "output_type": "execute_result"
    }
   ],
   "source": [
    "# Jointure des dataframes df et salaire par rapport au code de la commune\n",
    "df = pd.merge(left=df, right=salaire, on='com')\n",
    "df['salaireh'].describe()"
   ]
  },
  {
   "cell_type": "markdown",
   "metadata": {},
   "source": [
    "- **Densité de la population**"
   ]
  },
  {
   "cell_type": "markdown",
   "metadata": {},
   "source": [
    "Les données relatives à la densité de la population par commune en 2020 en France sont accessibles sur le site de l'Insee à partir de ce [lien](https://www.insee.fr/fr/statistiques/tableaux/1405599/comparateur_cc_.xls?geo=FRANCE-1). Nous les avons téléchargées et traitées sur Excel. Les données utilisées ci-dessous ne portent que sur les communes du département de Paris."
   ]
  },
  {
   "cell_type": "code",
   "execution_count": 10,
   "metadata": {},
   "outputs": [
    {
     "data": {
      "text/html": [
       "<div>\n",
       "<style scoped>\n",
       "    .dataframe tbody tr th:only-of-type {\n",
       "        vertical-align: middle;\n",
       "    }\n",
       "\n",
       "    .dataframe tbody tr th {\n",
       "        vertical-align: top;\n",
       "    }\n",
       "\n",
       "    .dataframe thead th {\n",
       "        text-align: right;\n",
       "    }\n",
       "</style>\n",
       "<table border=\"1\" class=\"dataframe\">\n",
       "  <thead>\n",
       "    <tr style=\"text-align: right;\">\n",
       "      <th></th>\n",
       "      <th>com</th>\n",
       "      <th>densit</th>\n",
       "    </tr>\n",
       "  </thead>\n",
       "  <tbody>\n",
       "    <tr>\n",
       "      <td>0</td>\n",
       "      <td>75101</td>\n",
       "      <td>3111.005693</td>\n",
       "    </tr>\n",
       "    <tr>\n",
       "      <td>1</td>\n",
       "      <td>75102</td>\n",
       "      <td>3992.789374</td>\n",
       "    </tr>\n",
       "    <tr>\n",
       "      <td>2</td>\n",
       "      <td>75103</td>\n",
       "      <td>6525.426945</td>\n",
       "    </tr>\n",
       "    <tr>\n",
       "      <td>3</td>\n",
       "      <td>75104</td>\n",
       "      <td>5383.301708</td>\n",
       "    </tr>\n",
       "    <tr>\n",
       "      <td>4</td>\n",
       "      <td>75105</td>\n",
       "      <td>11315.180266</td>\n",
       "    </tr>\n",
       "  </tbody>\n",
       "</table>\n",
       "</div>"
      ],
      "text/plain": [
       "     com        densit\n",
       "0  75101   3111.005693\n",
       "1  75102   3992.789374\n",
       "2  75103   6525.426945\n",
       "3  75104   5383.301708\n",
       "4  75105  11315.180266"
      ]
     },
     "execution_count": 10,
     "metadata": {},
     "output_type": "execute_result"
    }
   ],
   "source": [
    "# Importation des données relatives au salaire horaire net moyen par commune au sein du département de Paris\n",
    "densite = pd.read_excel('C:/PROJET_PYTHON_DVF/idf/Densite_2020.xlsx')\n",
    "densite.head()"
   ]
  },
  {
   "cell_type": "markdown",
   "metadata": {},
   "source": [
    "Le dataframe **densite** donne la répartition de la densité de la population (**densi**) par commune (**com**) au sein du département de **Paris**. Nous allons le joindre au dataframe **df**"
   ]
  },
  {
   "cell_type": "code",
   "execution_count": 11,
   "metadata": {},
   "outputs": [
    {
     "data": {
      "text/plain": [
       "count    387360.000000\n",
       "mean      27665.411620\n",
       "std       12051.379735\n",
       "min        3111.005693\n",
       "25%       17236.432638\n",
       "50%       31983.681214\n",
       "75%       37216.508539\n",
       "max       44625.806452\n",
       "Name: densit, dtype: float64"
      ]
     },
     "execution_count": 11,
     "metadata": {},
     "output_type": "execute_result"
    }
   ],
   "source": [
    "# Jointure des dataframes df et densite par rapport au code de la commune\n",
    "df = pd.merge(left=df, right=densite, on='com')\n",
    "df['densit'].describe()"
   ]
  },
  {
   "cell_type": "markdown",
   "metadata": {},
   "source": [
    "# 2.Analyse descriptive"
   ]
  },
  {
   "cell_type": "markdown",
   "metadata": {},
   "source": [
    "Nous présentons ci-dessous l'analyse descriptive de quelques variables d'intéret de l'étude"
   ]
  },
  {
   "cell_type": "code",
   "execution_count": 12,
   "metadata": {},
   "outputs": [
    {
     "data": {
      "text/plain": [
       "count       0.386735\n",
       "mean        3.762997\n",
       "std        32.856186\n",
       "min         0.000000\n",
       "25%         0.200000\n",
       "50%         0.410000\n",
       "75%         0.898000\n",
       "max      1249.132030\n",
       "Name: valeurfonc, dtype: float64"
      ]
     },
     "execution_count": 12,
     "metadata": {},
     "output_type": "execute_result"
    }
   ],
   "source": [
    "# valeurfonc: prix ou évaluation déclarée dans le cadre d'une mutation onéreuse\n",
    "df['valeurfonc'].describe()/(10**6) # en millions"
   ]
  },
  {
   "cell_type": "code",
   "execution_count": 13,
   "metadata": {},
   "outputs": [
    {
     "data": {
      "text/plain": [
       "0       0.901066\n",
       "6173    0.001536\n",
       "1611    0.001358\n",
       "6284    0.001188\n",
       "9505    0.001177\n",
       "          ...   \n",
       "1054    0.000003\n",
       "542     0.000003\n",
       "1223    0.000003\n",
       "4161    0.000003\n",
       "2674    0.000003\n",
       "Name: sterr, Length: 1011, dtype: float64"
      ]
     },
     "execution_count": 13,
     "metadata": {},
     "output_type": "execute_result"
    }
   ],
   "source": [
    "# sterr: surface de terrain ayant muté\n",
    "df['sterr'].value_counts(normalize = True)"
   ]
  },
  {
   "cell_type": "code",
   "execution_count": 14,
   "metadata": {},
   "outputs": [
    {
     "data": {
      "text/plain": [
       "0.0     0.354154\n",
       "2.0     0.219831\n",
       "1.0     0.173346\n",
       "3.0     0.140491\n",
       "4.0     0.066365\n",
       "5.0     0.028788\n",
       "6.0     0.010543\n",
       "7.0     0.004100\n",
       "8.0     0.001407\n",
       "9.0     0.000488\n",
       "10.0    0.000250\n",
       "11.0    0.000085\n",
       "12.0    0.000041\n",
       "14.0    0.000026\n",
       "20.0    0.000018\n",
       "17.0    0.000010\n",
       "16.0    0.000010\n",
       "18.0    0.000008\n",
       "13.0    0.000008\n",
       "15.0    0.000005\n",
       "26.0    0.000005\n",
       "19.0    0.000005\n",
       "32.0    0.000003\n",
       "21.0    0.000003\n",
       "22.0    0.000003\n",
       "45.0    0.000003\n",
       "23.0    0.000003\n",
       "24.0    0.000003\n",
       "Name: nbpprinc, dtype: float64"
      ]
     },
     "execution_count": 14,
     "metadata": {},
     "output_type": "execute_result"
    }
   ],
   "source": [
    "# nbpprinc: nombre de pièces principales\n",
    "df['nbpprinc'].value_counts(normalize = True)"
   ]
  },
  {
   "cell_type": "code",
   "execution_count": 15,
   "metadata": {},
   "outputs": [
    {
     "data": {
      "text/plain": [
       "0    0.993195\n",
       "1    0.005646\n",
       "4    0.000312\n",
       "8    0.000279\n",
       "2    0.000274\n",
       "5    0.000230\n",
       "3    0.000065\n",
       "Name: nblocmai, dtype: float64"
      ]
     },
     "execution_count": 15,
     "metadata": {},
     "output_type": "execute_result"
    }
   ],
   "source": [
    "# nblocmai: nombre de maisons ayant muté\n",
    "df['nblocmai'].value_counts(normalize = True)"
   ]
  },
  {
   "cell_type": "code",
   "execution_count": 16,
   "metadata": {},
   "outputs": [
    {
     "data": {
      "text/plain": [
       "1     0.629123\n",
       "0     0.199166\n",
       "2     0.064893\n",
       "3     0.010610\n",
       "4     0.003994\n",
       "        ...   \n",
       "41    0.000147\n",
       "55    0.000145\n",
       "39    0.000145\n",
       "51    0.000145\n",
       "52    0.000139\n",
       "Name: nblocapt, Length: 96, dtype: float64"
      ]
     },
     "execution_count": 16,
     "metadata": {},
     "output_type": "execute_result"
    }
   ],
   "source": [
    "# nblocapt: nombre d'appartements ayant muté\n",
    "df['nblocapt'].value_counts(normalize = True)"
   ]
  },
  {
   "cell_type": "code",
   "execution_count": 17,
   "metadata": {},
   "outputs": [
    {
     "data": {
      "text/plain": [
       "0      0.723247\n",
       "1      0.187903\n",
       "2      0.024089\n",
       "3      0.009939\n",
       "4      0.007105\n",
       "7      0.006077\n",
       "6      0.004913\n",
       "5      0.004804\n",
       "11     0.003408\n",
       "8      0.003204\n",
       "16     0.002223\n",
       "10     0.002029\n",
       "20     0.001719\n",
       "9      0.001694\n",
       "40     0.001536\n",
       "13     0.001523\n",
       "15     0.001469\n",
       "12     0.001200\n",
       "18     0.001177\n",
       "19     0.000916\n",
       "17     0.000914\n",
       "14     0.000855\n",
       "35     0.000774\n",
       "277    0.000741\n",
       "23     0.000638\n",
       "32     0.000630\n",
       "129    0.000578\n",
       "51     0.000563\n",
       "30     0.000467\n",
       "28     0.000462\n",
       "52     0.000372\n",
       "138    0.000356\n",
       "26     0.000338\n",
       "31     0.000279\n",
       "29     0.000245\n",
       "25     0.000240\n",
       "24     0.000207\n",
       "22     0.000181\n",
       "44     0.000170\n",
       "50     0.000170\n",
       "49     0.000168\n",
       "27     0.000124\n",
       "33     0.000121\n",
       "36     0.000119\n",
       "41     0.000114\n",
       "Name: nbapt1pp, dtype: float64"
      ]
     },
     "execution_count": 17,
     "metadata": {},
     "output_type": "execute_result"
    }
   ],
   "source": [
    "# nbapt1pp: nombre d'appartements avec au plus une pièce principale ayant muté\n",
    "df['nbapt1pp'].value_counts(normalize = True)"
   ]
  },
  {
   "cell_type": "code",
   "execution_count": 18,
   "metadata": {},
   "outputs": [
    {
     "data": {
      "text/plain": [
       "0    0.999510\n",
       "1    0.000431\n",
       "2    0.000059\n",
       "Name: nbmai1pp, dtype: float64"
      ]
     },
     "execution_count": 18,
     "metadata": {},
     "output_type": "execute_result"
    }
   ],
   "source": [
    "# nbmai1pp: nombre de maisons avec au plus une pièce principale ayant muté\n",
    "df['nbmai1pp'].value_counts(normalize = True)"
   ]
  },
  {
   "cell_type": "code",
   "execution_count": 19,
   "metadata": {},
   "outputs": [
    {
     "data": {
      "text/plain": [
       "0        0.113166\n",
       "30       0.017503\n",
       "40       0.014736\n",
       "50       0.013569\n",
       "25       0.012934\n",
       "           ...   \n",
       "1159     0.000003\n",
       "1738     0.000003\n",
       "2094     0.000003\n",
       "901      0.000003\n",
       "14400    0.000003\n",
       "Name: sbati, Length: 2077, dtype: float64"
      ]
     },
     "execution_count": 19,
     "metadata": {},
     "output_type": "execute_result"
    }
   ],
   "source": [
    "# sbati: surface de l'ensemble du bâti ayant muté \n",
    "df['sbati'].value_counts(normalize = True)"
   ]
  },
  {
   "cell_type": "markdown",
   "metadata": {},
   "source": [
    "# 3.Préprocessing"
   ]
  },
  {
   "cell_type": "markdown",
   "metadata": {},
   "source": [
    "On crée le dataframe **df1** en projetant le dataframe **df** sur les variables d'intéret de l'étude à savoir: 'valeurfonc', 'sterr', 'nblocmai', 'nblocapt', 'nblocdep', 'nblocact', 'nbapt1pp', 'nbapt2pp', 'nbapt3pp', 'nbapt4pp', 'nbapt5pp', 'nbmai1pp', 'nbmai2pp', 'nbmai3pp', 'nbmai4pp', 'nbmai5pp', 'sbati', 'sbatapt', 'sbatact', 'sapt1pp', 'sapt2pp', 'sapt3pp', 'sapt4pp', 'sapt5pp', 'smai1pp', 'smai2pp', 'smai3pp', 'smai4pp', 'smai5pp', 'nbpprinc', 'nbrcomm', 'salaireh' et 'densit'"
   ]
  },
  {
   "cell_type": "code",
   "execution_count": 20,
   "metadata": {},
   "outputs": [
    {
     "data": {
      "text/plain": [
       "(386659, 33)"
      ]
     },
     "execution_count": 20,
     "metadata": {},
     "output_type": "execute_result"
    }
   ],
   "source": [
    "df1 = df[['valeurfonc', 'sterr', 'nblocmai', 'nblocapt', 'nblocdep', 'nblocact', 'nbapt1pp', 'nbapt2pp', 'nbapt3pp', 'nbapt4pp', 'nbapt5pp', 'nbmai1pp', 'nbmai2pp', 'nbmai3pp', 'nbmai4pp', 'nbmai5pp', 'sbati', 'sbatapt', 'sbatact', 'sapt1pp', 'sapt2pp', 'sapt3pp', 'sapt4pp', 'sapt5pp', 'smai1pp', 'smai2pp', 'smai3pp', 'smai4pp', 'smai5pp', 'nbpprinc', 'nbrcomm', 'salaireh', 'densit']]\n",
    "df1 = df1.dropna() # on supprime les lignes présentant des valeurs manquantes afin d'éviter des bugg lors de la regression. Ces lignes représentent un peu moins de 0.2% du nombre total de ligne de notre jeu de données.\n",
    "df1.shape"
   ]
  },
  {
   "cell_type": "code",
   "execution_count": 21,
   "metadata": {},
   "outputs": [
    {
     "data": {
      "text/html": [
       "<div>\n",
       "<style scoped>\n",
       "    .dataframe tbody tr th:only-of-type {\n",
       "        vertical-align: middle;\n",
       "    }\n",
       "\n",
       "    .dataframe tbody tr th {\n",
       "        vertical-align: top;\n",
       "    }\n",
       "\n",
       "    .dataframe thead th {\n",
       "        text-align: right;\n",
       "    }\n",
       "</style>\n",
       "<table border=\"1\" class=\"dataframe\">\n",
       "  <thead>\n",
       "    <tr style=\"text-align: right;\">\n",
       "      <th></th>\n",
       "      <th>valeurfonc</th>\n",
       "      <th>sterr</th>\n",
       "      <th>nblocmai</th>\n",
       "      <th>nblocapt</th>\n",
       "      <th>nblocdep</th>\n",
       "      <th>nblocact</th>\n",
       "      <th>nbapt1pp</th>\n",
       "      <th>nbapt2pp</th>\n",
       "      <th>nbapt3pp</th>\n",
       "      <th>nbapt4pp</th>\n",
       "      <th>...</th>\n",
       "      <th>sapt5pp</th>\n",
       "      <th>smai1pp</th>\n",
       "      <th>smai2pp</th>\n",
       "      <th>smai3pp</th>\n",
       "      <th>smai4pp</th>\n",
       "      <th>smai5pp</th>\n",
       "      <th>nbpprinc</th>\n",
       "      <th>nbrcomm</th>\n",
       "      <th>salaireh</th>\n",
       "      <th>densit</th>\n",
       "    </tr>\n",
       "  </thead>\n",
       "  <tbody>\n",
       "    <tr>\n",
       "      <td>0</td>\n",
       "      <td>-0.102746</td>\n",
       "      <td>-0.04483</td>\n",
       "      <td>-0.058156</td>\n",
       "      <td>-0.181602</td>\n",
       "      <td>-0.209168</td>\n",
       "      <td>-0.127545</td>\n",
       "      <td>-0.137487</td>\n",
       "      <td>-0.076057</td>\n",
       "      <td>-0.168991</td>\n",
       "      <td>-0.149535</td>\n",
       "      <td>...</td>\n",
       "      <td>-0.149452</td>\n",
       "      <td>-0.01005</td>\n",
       "      <td>-0.023813</td>\n",
       "      <td>-0.038482</td>\n",
       "      <td>-0.039004</td>\n",
       "      <td>-0.047541</td>\n",
       "      <td>0.281338</td>\n",
       "      <td>1.131182</td>\n",
       "      <td>-0.870062</td>\n",
       "      <td>0.79308</td>\n",
       "    </tr>\n",
       "    <tr>\n",
       "      <td>1</td>\n",
       "      <td>-0.075202</td>\n",
       "      <td>-0.04483</td>\n",
       "      <td>-0.058156</td>\n",
       "      <td>-0.014778</td>\n",
       "      <td>-0.209168</td>\n",
       "      <td>-0.127545</td>\n",
       "      <td>0.291198</td>\n",
       "      <td>-0.196664</td>\n",
       "      <td>-0.168991</td>\n",
       "      <td>0.036803</td>\n",
       "      <td>...</td>\n",
       "      <td>-0.149452</td>\n",
       "      <td>-0.01005</td>\n",
       "      <td>-0.023813</td>\n",
       "      <td>-0.038482</td>\n",
       "      <td>-0.039004</td>\n",
       "      <td>-0.047541</td>\n",
       "      <td>-0.355491</td>\n",
       "      <td>1.131182</td>\n",
       "      <td>-0.870062</td>\n",
       "      <td>0.79308</td>\n",
       "    </tr>\n",
       "    <tr>\n",
       "      <td>2</td>\n",
       "      <td>-0.075202</td>\n",
       "      <td>-0.04483</td>\n",
       "      <td>-0.058156</td>\n",
       "      <td>-0.014778</td>\n",
       "      <td>-0.209168</td>\n",
       "      <td>-0.127545</td>\n",
       "      <td>0.291198</td>\n",
       "      <td>-0.196664</td>\n",
       "      <td>-0.168991</td>\n",
       "      <td>0.036803</td>\n",
       "      <td>...</td>\n",
       "      <td>-0.149452</td>\n",
       "      <td>-0.01005</td>\n",
       "      <td>-0.023813</td>\n",
       "      <td>-0.038482</td>\n",
       "      <td>-0.039004</td>\n",
       "      <td>-0.047541</td>\n",
       "      <td>1.554998</td>\n",
       "      <td>1.131182</td>\n",
       "      <td>-0.870062</td>\n",
       "      <td>0.79308</td>\n",
       "    </tr>\n",
       "    <tr>\n",
       "      <td>3</td>\n",
       "      <td>-0.075202</td>\n",
       "      <td>-0.04483</td>\n",
       "      <td>-0.058156</td>\n",
       "      <td>-0.014778</td>\n",
       "      <td>-0.209168</td>\n",
       "      <td>-0.127545</td>\n",
       "      <td>0.291198</td>\n",
       "      <td>-0.196664</td>\n",
       "      <td>-0.168991</td>\n",
       "      <td>0.036803</td>\n",
       "      <td>...</td>\n",
       "      <td>-0.149452</td>\n",
       "      <td>-0.01005</td>\n",
       "      <td>-0.023813</td>\n",
       "      <td>-0.038482</td>\n",
       "      <td>-0.039004</td>\n",
       "      <td>-0.047541</td>\n",
       "      <td>-0.355491</td>\n",
       "      <td>1.131182</td>\n",
       "      <td>-0.870062</td>\n",
       "      <td>0.79308</td>\n",
       "    </tr>\n",
       "    <tr>\n",
       "      <td>4</td>\n",
       "      <td>-0.075202</td>\n",
       "      <td>-0.04483</td>\n",
       "      <td>-0.058156</td>\n",
       "      <td>-0.014778</td>\n",
       "      <td>-0.209168</td>\n",
       "      <td>-0.127545</td>\n",
       "      <td>0.291198</td>\n",
       "      <td>-0.196664</td>\n",
       "      <td>-0.168991</td>\n",
       "      <td>0.036803</td>\n",
       "      <td>...</td>\n",
       "      <td>-0.149452</td>\n",
       "      <td>-0.01005</td>\n",
       "      <td>-0.023813</td>\n",
       "      <td>-0.038482</td>\n",
       "      <td>-0.039004</td>\n",
       "      <td>-0.047541</td>\n",
       "      <td>-0.355491</td>\n",
       "      <td>1.131182</td>\n",
       "      <td>-0.870062</td>\n",
       "      <td>0.79308</td>\n",
       "    </tr>\n",
       "  </tbody>\n",
       "</table>\n",
       "<p>5 rows × 33 columns</p>\n",
       "</div>"
      ],
      "text/plain": [
       "   valeurfonc    sterr  nblocmai  nblocapt  nblocdep  nblocact  nbapt1pp  \\\n",
       "0   -0.102746 -0.04483 -0.058156 -0.181602 -0.209168 -0.127545 -0.137487   \n",
       "1   -0.075202 -0.04483 -0.058156 -0.014778 -0.209168 -0.127545  0.291198   \n",
       "2   -0.075202 -0.04483 -0.058156 -0.014778 -0.209168 -0.127545  0.291198   \n",
       "3   -0.075202 -0.04483 -0.058156 -0.014778 -0.209168 -0.127545  0.291198   \n",
       "4   -0.075202 -0.04483 -0.058156 -0.014778 -0.209168 -0.127545  0.291198   \n",
       "\n",
       "   nbapt2pp  nbapt3pp  nbapt4pp  ...   sapt5pp  smai1pp   smai2pp   smai3pp  \\\n",
       "0 -0.076057 -0.168991 -0.149535  ... -0.149452 -0.01005 -0.023813 -0.038482   \n",
       "1 -0.196664 -0.168991  0.036803  ... -0.149452 -0.01005 -0.023813 -0.038482   \n",
       "2 -0.196664 -0.168991  0.036803  ... -0.149452 -0.01005 -0.023813 -0.038482   \n",
       "3 -0.196664 -0.168991  0.036803  ... -0.149452 -0.01005 -0.023813 -0.038482   \n",
       "4 -0.196664 -0.168991  0.036803  ... -0.149452 -0.01005 -0.023813 -0.038482   \n",
       "\n",
       "    smai4pp   smai5pp  nbpprinc   nbrcomm  salaireh   densit  \n",
       "0 -0.039004 -0.047541  0.281338  1.131182 -0.870062  0.79308  \n",
       "1 -0.039004 -0.047541 -0.355491  1.131182 -0.870062  0.79308  \n",
       "2 -0.039004 -0.047541  1.554998  1.131182 -0.870062  0.79308  \n",
       "3 -0.039004 -0.047541 -0.355491  1.131182 -0.870062  0.79308  \n",
       "4 -0.039004 -0.047541 -0.355491  1.131182 -0.870062  0.79308  \n",
       "\n",
       "[5 rows x 33 columns]"
      ]
     },
     "execution_count": 21,
     "metadata": {},
     "output_type": "execute_result"
    }
   ],
   "source": [
    "# On standardise les différentes variables d'intéret dans un nouveau dataframe df2\n",
    "from sklearn.preprocessing import StandardScaler\n",
    "scaler = StandardScaler()\n",
    "df2 = pd.DataFrame(scaler.fit(df1).transform(df1), columns = df1.columns)\n",
    "df2.head()"
   ]
  },
  {
   "cell_type": "code",
   "execution_count": 22,
   "metadata": {},
   "outputs": [
    {
     "data": {
      "text/html": [
       "<div>\n",
       "<style scoped>\n",
       "    .dataframe tbody tr th:only-of-type {\n",
       "        vertical-align: middle;\n",
       "    }\n",
       "\n",
       "    .dataframe tbody tr th {\n",
       "        vertical-align: top;\n",
       "    }\n",
       "\n",
       "    .dataframe thead th {\n",
       "        text-align: right;\n",
       "    }\n",
       "</style>\n",
       "<table border=\"1\" class=\"dataframe\">\n",
       "  <thead>\n",
       "    <tr style=\"text-align: right;\">\n",
       "      <th></th>\n",
       "      <th>valeurfonc</th>\n",
       "      <th>sterr</th>\n",
       "      <th>nblocmai</th>\n",
       "      <th>nblocapt</th>\n",
       "      <th>nblocdep</th>\n",
       "      <th>nblocact</th>\n",
       "      <th>nbapt1pp</th>\n",
       "      <th>nbapt2pp</th>\n",
       "      <th>nbapt3pp</th>\n",
       "      <th>nbapt4pp</th>\n",
       "      <th>...</th>\n",
       "      <th>sapt5pp</th>\n",
       "      <th>smai1pp</th>\n",
       "      <th>smai2pp</th>\n",
       "      <th>smai3pp</th>\n",
       "      <th>smai4pp</th>\n",
       "      <th>smai5pp</th>\n",
       "      <th>nbpprinc</th>\n",
       "      <th>nbrcomm</th>\n",
       "      <th>salaireh</th>\n",
       "      <th>densit</th>\n",
       "    </tr>\n",
       "  </thead>\n",
       "  <tbody>\n",
       "    <tr>\n",
       "      <td>0</td>\n",
       "      <td>0.995348</td>\n",
       "      <td>0.0</td>\n",
       "      <td>0.0</td>\n",
       "      <td>0.000003</td>\n",
       "      <td>0.0</td>\n",
       "      <td>0.0</td>\n",
       "      <td>0.000000</td>\n",
       "      <td>0.000003</td>\n",
       "      <td>0.0</td>\n",
       "      <td>0.000000e+00</td>\n",
       "      <td>...</td>\n",
       "      <td>0.0</td>\n",
       "      <td>0.0</td>\n",
       "      <td>0.0</td>\n",
       "      <td>0.0</td>\n",
       "      <td>0.0</td>\n",
       "      <td>0.0</td>\n",
       "      <td>5.170637e-06</td>\n",
       "      <td>0.005062</td>\n",
       "      <td>0.000048</td>\n",
       "      <td>0.096217</td>\n",
       "    </tr>\n",
       "    <tr>\n",
       "      <td>1</td>\n",
       "      <td>0.999583</td>\n",
       "      <td>0.0</td>\n",
       "      <td>0.0</td>\n",
       "      <td>0.000004</td>\n",
       "      <td>0.0</td>\n",
       "      <td>0.0</td>\n",
       "      <td>0.000003</td>\n",
       "      <td>0.000000</td>\n",
       "      <td>0.0</td>\n",
       "      <td>7.748705e-07</td>\n",
       "      <td>...</td>\n",
       "      <td>0.0</td>\n",
       "      <td>0.0</td>\n",
       "      <td>0.0</td>\n",
       "      <td>0.0</td>\n",
       "      <td>0.0</td>\n",
       "      <td>0.0</td>\n",
       "      <td>7.748705e-07</td>\n",
       "      <td>0.001517</td>\n",
       "      <td>0.000014</td>\n",
       "      <td>0.028838</td>\n",
       "    </tr>\n",
       "    <tr>\n",
       "      <td>2</td>\n",
       "      <td>0.999583</td>\n",
       "      <td>0.0</td>\n",
       "      <td>0.0</td>\n",
       "      <td>0.000004</td>\n",
       "      <td>0.0</td>\n",
       "      <td>0.0</td>\n",
       "      <td>0.000003</td>\n",
       "      <td>0.000000</td>\n",
       "      <td>0.0</td>\n",
       "      <td>7.748705e-07</td>\n",
       "      <td>...</td>\n",
       "      <td>0.0</td>\n",
       "      <td>0.0</td>\n",
       "      <td>0.0</td>\n",
       "      <td>0.0</td>\n",
       "      <td>0.0</td>\n",
       "      <td>0.0</td>\n",
       "      <td>3.099482e-06</td>\n",
       "      <td>0.001517</td>\n",
       "      <td>0.000014</td>\n",
       "      <td>0.028838</td>\n",
       "    </tr>\n",
       "    <tr>\n",
       "      <td>3</td>\n",
       "      <td>0.999583</td>\n",
       "      <td>0.0</td>\n",
       "      <td>0.0</td>\n",
       "      <td>0.000004</td>\n",
       "      <td>0.0</td>\n",
       "      <td>0.0</td>\n",
       "      <td>0.000003</td>\n",
       "      <td>0.000000</td>\n",
       "      <td>0.0</td>\n",
       "      <td>7.748705e-07</td>\n",
       "      <td>...</td>\n",
       "      <td>0.0</td>\n",
       "      <td>0.0</td>\n",
       "      <td>0.0</td>\n",
       "      <td>0.0</td>\n",
       "      <td>0.0</td>\n",
       "      <td>0.0</td>\n",
       "      <td>7.748705e-07</td>\n",
       "      <td>0.001517</td>\n",
       "      <td>0.000014</td>\n",
       "      <td>0.028838</td>\n",
       "    </tr>\n",
       "    <tr>\n",
       "      <td>4</td>\n",
       "      <td>0.999583</td>\n",
       "      <td>0.0</td>\n",
       "      <td>0.0</td>\n",
       "      <td>0.000004</td>\n",
       "      <td>0.0</td>\n",
       "      <td>0.0</td>\n",
       "      <td>0.000003</td>\n",
       "      <td>0.000000</td>\n",
       "      <td>0.0</td>\n",
       "      <td>7.748705e-07</td>\n",
       "      <td>...</td>\n",
       "      <td>0.0</td>\n",
       "      <td>0.0</td>\n",
       "      <td>0.0</td>\n",
       "      <td>0.0</td>\n",
       "      <td>0.0</td>\n",
       "      <td>0.0</td>\n",
       "      <td>7.748705e-07</td>\n",
       "      <td>0.001517</td>\n",
       "      <td>0.000014</td>\n",
       "      <td>0.028838</td>\n",
       "    </tr>\n",
       "  </tbody>\n",
       "</table>\n",
       "<p>5 rows × 33 columns</p>\n",
       "</div>"
      ],
      "text/plain": [
       "   valeurfonc  sterr  nblocmai  nblocapt  nblocdep  nblocact  nbapt1pp  \\\n",
       "0    0.995348    0.0       0.0  0.000003       0.0       0.0  0.000000   \n",
       "1    0.999583    0.0       0.0  0.000004       0.0       0.0  0.000003   \n",
       "2    0.999583    0.0       0.0  0.000004       0.0       0.0  0.000003   \n",
       "3    0.999583    0.0       0.0  0.000004       0.0       0.0  0.000003   \n",
       "4    0.999583    0.0       0.0  0.000004       0.0       0.0  0.000003   \n",
       "\n",
       "   nbapt2pp  nbapt3pp      nbapt4pp  ...  sapt5pp  smai1pp  smai2pp  smai3pp  \\\n",
       "0  0.000003       0.0  0.000000e+00  ...      0.0      0.0      0.0      0.0   \n",
       "1  0.000000       0.0  7.748705e-07  ...      0.0      0.0      0.0      0.0   \n",
       "2  0.000000       0.0  7.748705e-07  ...      0.0      0.0      0.0      0.0   \n",
       "3  0.000000       0.0  7.748705e-07  ...      0.0      0.0      0.0      0.0   \n",
       "4  0.000000       0.0  7.748705e-07  ...      0.0      0.0      0.0      0.0   \n",
       "\n",
       "   smai4pp  smai5pp      nbpprinc   nbrcomm  salaireh    densit  \n",
       "0      0.0      0.0  5.170637e-06  0.005062  0.000048  0.096217  \n",
       "1      0.0      0.0  7.748705e-07  0.001517  0.000014  0.028838  \n",
       "2      0.0      0.0  3.099482e-06  0.001517  0.000014  0.028838  \n",
       "3      0.0      0.0  7.748705e-07  0.001517  0.000014  0.028838  \n",
       "4      0.0      0.0  7.748705e-07  0.001517  0.000014  0.028838  \n",
       "\n",
       "[5 rows x 33 columns]"
      ]
     },
     "execution_count": 22,
     "metadata": {},
     "output_type": "execute_result"
    }
   ],
   "source": [
    "# On normalise les différentes variables d'intéret dans un nouveau dataframe df3\n",
    "from sklearn.preprocessing import Normalizer\n",
    "normaliz = Normalizer()\n",
    "df3 = pd.DataFrame(normaliz.fit(df1).transform(df1), columns = df1.columns)\n",
    "df3.head()"
   ]
  },
  {
   "cell_type": "markdown",
   "metadata": {},
   "source": [
    "# 4. Sélection des variables"
   ]
  },
  {
   "cell_type": "markdown",
   "metadata": {},
   "source": [
    "## Régression LASSO"
   ]
  },
  {
   "cell_type": "code",
   "execution_count": 23,
   "metadata": {},
   "outputs": [],
   "source": [
    "# chargement des différents modules\n",
    "from sklearn.svm import LinearSVC\n",
    "from sklearn.feature_selection import SelectFromModel\n",
    "from sklearn.model_selection import train_test_split\n",
    "from sklearn.preprocessing import StandardScaler\n",
    "from sklearn.linear_model import Lasso\n",
    "\n",
    "# fonction permettant d'affectuer la regression Lasso. Elle a 2 paramètres: le datframe utilisé et le paramètre alpha de la régression\n",
    "def make_lasso(dataf, alpha = 0.1):\n",
    "  data = dataf.to_numpy()\n",
    "  yindex = dataf.columns.get_loc(\"valeurfonc\")\n",
    "  lasso1 = Lasso(fit_intercept=False,normalize=False, alpha = alpha)\n",
    "  lasso1.fit(np.delete(data, yindex, axis = 1),data[:,yindex])\n",
    "  return lasso1, data, yindex\n"
   ]
  },
  {
   "cell_type": "markdown",
   "metadata": {},
   "source": [
    "On applique cette fonction au dataframe **df2** contenant les variables standardisées"
   ]
  },
  {
   "cell_type": "code",
   "execution_count": 24,
   "metadata": {},
   "outputs": [
    {
     "data": {
      "text/plain": [
       "array([0.        , 0.        , 0.        , 0.        , 0.        ,\n",
       "       0.0221242 , 0.0869785 , 0.        , 0.        , 0.        ,\n",
       "       0.        , 0.        , 0.        , 0.        , 0.        ,\n",
       "       0.07775676, 0.        , 0.14130703, 0.02656675, 0.        ,\n",
       "       0.        , 0.        , 0.        , 0.        , 0.        ,\n",
       "       0.        , 0.        , 0.        , 0.        , 0.        ,\n",
       "       0.        , 0.        ])"
      ]
     },
     "execution_count": 24,
     "metadata": {},
     "output_type": "execute_result"
    }
   ],
   "source": [
    "lasso1,_,_ = make_lasso(df2)\n",
    "np.abs(lasso1.coef_)"
   ]
  },
  {
   "cell_type": "code",
   "execution_count": 25,
   "metadata": {},
   "outputs": [
    {
     "data": {
      "text/plain": [
       "Index(['nbapt1pp', 'nbapt2pp', 'sbati', 'sbatact', 'sapt1pp'], dtype='object')"
      ]
     },
     "execution_count": 25,
     "metadata": {},
     "output_type": "execute_result"
    }
   ],
   "source": [
    "df2.drop(\"valeurfonc\", axis = 1).columns[np.abs(lasso1.coef_)>0]"
   ]
  },
  {
   "cell_type": "markdown",
   "metadata": {},
   "source": [
    "5 variables ont été retenues pour $\\alpha$ = 0.1 à savoir: **nbapt1pp, nbapt2pp, sbati, sbatact, sapt1pp**"
   ]
  },
  {
   "cell_type": "markdown",
   "metadata": {},
   "source": [
    "# Effet du paramètre de pénalisation $\\alpha$ sur la sélection de variables "
   ]
  },
  {
   "cell_type": "markdown",
   "metadata": {},
   "source": [
    "Nous allons analyser l'effet du paramètre $\\alpha$"
   ]
  },
  {
   "cell_type": "code",
   "execution_count": 26,
   "metadata": {},
   "outputs": [
    {
     "name": "stderr",
     "output_type": "stream",
     "text": [
      "C:\\Users\\ethel\\Anaconda3\\lib\\site-packages\\sklearn\\linear_model\\coordinate_descent.py:471: ConvergenceWarning: Objective did not converge. You might want to increase the number of iterations. Duality gap: 330.5223845524306, tolerance: 38.665899999999965\n",
      "  tol, rng, random, positive)\n"
     ]
    },
    {
     "data": {
      "image/png": "[encoded data removed]",
      "text/plain": [
       "<Figure size 432x288 with 1 Axes>"
      ]
     },
     "metadata": {},
     "output_type": "display_data"
    }
   ],
   "source": [
    "import matplotlib.cm as cm\n",
    "import matplotlib.pyplot as plt\n",
    "from sklearn.linear_model import lasso_path\n",
    "import seaborn as sns\n",
    "\n",
    "lasso2,data,yindex = make_lasso(df2)\n",
    "\n",
    "my_alphas = np.array([0.001,0.01,0.02,0.025,0.05,0.1,0.25,0.5,0.8,1.0])\n",
    "alpha_for_path, coefs_lasso, _ = lasso_path(np.delete(data, yindex, axis = 1),data[:,yindex],alphas=my_alphas)\n",
    "nb_non_zero = np.apply_along_axis(func1d=np.count_nonzero,arr=coefs_lasso,axis=0)\n",
    "\n",
    "sns.set_style(\"whitegrid\")\n",
    "p = sns.lineplot(y=nb_non_zero, x=alpha_for_path).set(title = r\"Number variables and regularization parameter ($\\alpha$)\", xlabel=r'$\\alpha$', ylabel='Nb. de variables')\n",
    "p\n",
    "plt.show()"
   ]
  },
  {
   "cell_type": "markdown",
   "metadata": {},
   "source": [
    "Dans la suite de ce travail, nous allons retenir la valeur $\\alpha$ = 0.1, laquelle nous permet de retenir 5 variables explicatives à savoir: **nbapt1pp, nbapt2pp, sbati, sbatact, sapt1pp**"
   ]
  },
  {
   "cell_type": "markdown",
   "metadata": {},
   "source": [
    "# 5. Régression"
   ]
  },
  {
   "cell_type": "code",
   "execution_count": 27,
   "metadata": {},
   "outputs": [],
   "source": [
    "# importation des modules nécessaires\n",
    "from sklearn.linear_model import LinearRegression\n",
    "from sklearn.model_selection import train_test_split\n",
    "import sklearn.metrics"
   ]
  },
  {
   "cell_type": "markdown",
   "metadata": {},
   "source": [
    "## L'échantillonnage"
   ]
  },
  {
   "cell_type": "code",
   "execution_count": 28,
   "metadata": {},
   "outputs": [],
   "source": [
    "# La variable à expliquer\n",
    "Y = df3['valeurfonc']\n",
    "# Les variables explicatives\n",
    "#X = df3[['nbapt1pp', 'nbapt2pp', 'sbati', 'sbatact', 'sapt1pp']]\n",
    "X = df3[['sterr', 'nblocmai', 'nblocapt', 'nblocdep', 'nblocact', 'nbapt1pp', 'nbapt2pp', 'nbapt3pp', 'nbapt4pp', 'nbapt5pp', 'nbmai1pp', 'nbmai2pp', 'nbmai3pp', 'nbmai4pp', 'nbmai5pp', 'sbati', 'sbatapt', 'sbatact', 'sapt1pp', 'sapt2pp', 'sapt3pp', 'sapt4pp', 'sapt5pp', 'smai1pp', 'smai2pp', 'smai3pp', 'smai4pp', 'smai5pp', 'nbpprinc', 'nbrcomm']]\n",
    "X_train, X_test, Y_train, Y_test = train_test_split(X, Y, test_size=0.25, random_state=0)"
   ]
  },
  {
   "cell_type": "markdown",
   "metadata": {},
   "source": [
    "## La modélisation"
   ]
  },
  {
   "cell_type": "markdown",
   "metadata": {},
   "source": [
    "- **Avec Scikit-learn**"
   ]
  },
  {
   "cell_type": "code",
   "execution_count": 29,
   "metadata": {},
   "outputs": [
    {
     "name": "stdout",
     "output_type": "stream",
     "text": [
      "1.0057178013920958 [-1.18382403e+00 -5.13082338e+10  7.10219680e+03 -7.08725592e+01\n",
      " -2.46280408e+02 -7.37816146e+03 -6.88902789e+03 -7.72187050e+03\n",
      " -8.21212327e+03 -8.31538805e+03  5.13082369e+10  5.13082270e+10\n",
      "  5.13082333e+10  5.13082395e+10  5.13082639e+10  9.64469961e+00\n",
      " -1.42446104e+12 -9.34857975e+00  1.42446104e+12  1.42446104e+12\n",
      "  1.42446104e+12  1.42446104e+12  1.42446104e+12  2.78292184e+01\n",
      " -4.13617433e+01 -1.69396707e+02 -1.61758354e+02 -2.57331182e+02\n",
      "  3.47280159e+02 -6.20825107e+00]\n"
     ]
    }
   ],
   "source": [
    "ols = LinearRegression().fit(X_train, Y_train)\n",
    "print(ols.intercept_, ols.coef_)"
   ]
  },
  {
   "cell_type": "markdown",
   "metadata": {},
   "source": [
    "- **Avec Statsmodels**"
   ]
  },
  {
   "cell_type": "code",
   "execution_count": 30,
   "metadata": {},
   "outputs": [
    {
     "name": "stderr",
     "output_type": "stream",
     "text": [
      "C:\\Users\\ethel\\Anaconda3\\lib\\site-packages\\numpy\\core\\fromnumeric.py:2389: FutureWarning: Method .ptp is deprecated and will be removed in a future version. Use numpy.ptp instead.\n",
      "  return ptp(axis=axis, out=out, **kwargs)\n"
     ]
    },
    {
     "name": "stdout",
     "output_type": "stream",
     "text": [
      "                            OLS Regression Results                            \n",
      "==============================================================================\n",
      "Dep. Variable:             valeurfonc   R-squared:                       0.551\n",
      "Model:                            OLS   Adj. R-squared:                  0.551\n",
      "Method:                 Least Squares   F-statistic:                 1.271e+04\n",
      "Date:                Tue, 15 Dec 2020   Prob (F-statistic):               0.00\n",
      "Time:                        22:04:08   Log-Likelihood:             2.3435e+05\n",
      "No. Observations:              289994   AIC:                        -4.686e+05\n",
      "Df Residuals:                  289965   BIC:                        -4.683e+05\n",
      "Df Model:                          28                                         \n",
      "Covariance Type:            nonrobust                                         \n",
      "==============================================================================\n",
      "                 coef    std err          t      P>|t|      [0.025      0.975]\n",
      "------------------------------------------------------------------------------\n",
      "const          1.0057      0.000   4498.453      0.000       1.005       1.006\n",
      "sterr         -1.1838      0.073    -16.142      0.000      -1.328      -1.040\n",
      "nblocmai    5305.6223   1898.777      2.794      0.005    1584.073    9027.172\n",
      "nblocapt    7101.8371   1.11e+05      0.064      0.949   -2.11e+05    2.26e+05\n",
      "nblocdep     -70.8889      1.201    -59.030      0.000     -73.243     -68.535\n",
      "nblocact    -243.7469     11.527    -21.146      0.000    -266.339    -221.154\n",
      "nbapt1pp   -7385.0621   1.11e+05     -0.066      0.947   -2.26e+05    2.11e+05\n",
      "nbapt2pp   -6889.7997   1.11e+05     -0.062      0.951   -2.25e+05    2.12e+05\n",
      "nbapt3pp   -7710.1404   1.11e+05     -0.069      0.945   -2.26e+05    2.11e+05\n",
      "nbapt4pp   -8220.5718   1.11e+05     -0.074      0.941   -2.27e+05     2.1e+05\n",
      "nbapt5pp   -8320.9868   1.11e+05     -0.075      0.940   -2.27e+05     2.1e+05\n",
      "nbmai1pp   -2200.0644   5349.888     -0.411      0.681   -1.27e+04    8285.567\n",
      "nbmai2pp   -1.209e+04   6877.959     -1.758      0.079   -2.56e+04    1390.900\n",
      "nbmai3pp   -5748.2974   3218.954     -1.786      0.074   -1.21e+04     560.762\n",
      "nbmai4pp     471.5067   4144.205      0.114      0.909   -7651.020    8594.034\n",
      "nbmai5pp    2.487e+04   3471.246      7.165      0.000    1.81e+04    3.17e+04\n",
      "sbati         10.2848      5.523      1.862      0.063      -0.540      21.109\n",
      "sbatapt       -4.6989      4.605     -1.020      0.308     -13.724       4.327\n",
      "sbatact       -9.9947      5.526     -1.809      0.071     -20.825       0.836\n",
      "sapt1pp       -7.1078      1.111     -6.396      0.000      -9.286      -4.930\n",
      "sapt2pp      -18.0397      1.203    -14.990      0.000     -20.398     -15.681\n",
      "sapt3pp        4.7582      1.193      3.989      0.000       2.420       7.096\n",
      "sapt4pp        6.5622      1.390      4.722      0.000       3.838       9.286\n",
      "sapt5pp        9.1282      1.211      7.537      0.000       6.754      11.502\n",
      "smai1pp       27.8465    187.929      0.148      0.882    -340.488     396.181\n",
      "smai2pp      -41.7716    138.873     -0.301      0.764    -313.959     230.416\n",
      "smai3pp     -170.2606     44.605     -3.817      0.000    -257.685     -82.836\n",
      "smai4pp     -162.5544     23.727     -6.851      0.000    -209.059    -116.049\n",
      "smai5pp     -258.1719     27.636     -9.342      0.000    -312.338    -204.006\n",
      "nbpprinc     348.1365      9.483     36.711      0.000     329.550     366.723\n",
      "nbrcomm       -6.2088      0.014   -457.878      0.000      -6.235      -6.182\n",
      "==============================================================================\n",
      "Omnibus:                   162243.772   Durbin-Watson:                   1.997\n",
      "Prob(Omnibus):                  0.000   Jarque-Bera (JB):         12363999.938\n",
      "Skew:                          -1.863   Prob(JB):                         0.00\n",
      "Kurtosis:                      34.771   Cond. No.                     1.00e+16\n",
      "==============================================================================\n",
      "\n",
      "Warnings:\n",
      "[1] Standard Errors assume that the covariance matrix of the errors is correctly specified.\n",
      "[2] The smallest eigenvalue is 2.9e-27. This might indicate that there are\n",
      "strong multicollinearity problems or that the design matrix is singular.\n"
     ]
    }
   ],
   "source": [
    "# chargement des modules nécessaires\n",
    "import statsmodels.api as sm\n",
    "import statsmodels.formula.api as smf\n",
    "\n",
    "model = sm.OLS(Y_train, sm.add_constant(X_train)) # NB: on rajoute la constante 1 par mi les regressers car stasmodels ne le fait pas automatiquement\n",
    "results = model.fit()\n",
    "print(results.summary())"
   ]
  },
  {
   "cell_type": "markdown",
   "metadata": {},
   "source": [
    "# La qualité du modèle"
   ]
  },
  {
   "cell_type": "code",
   "execution_count": 31,
   "metadata": {},
   "outputs": [
    {
     "name": "stdout",
     "output_type": "stream",
     "text": [
      "Mean squared error: 0.01\n",
      "Coefficient of determination: 0.56\n"
     ]
    }
   ],
   "source": [
    "# Prédictions\n",
    "Y_pred = ols.predict(X_test)\n",
    "\n",
    "# Calcul des métriques de qualité\n",
    "mse = sklearn.metrics.mean_squared_error(Y_test, Y_pred)\n",
    "rsq = sklearn.metrics.r2_score(Y_test, Y_pred) \n",
    "# The Mean squared error\n",
    "print('Mean squared error: %.2f'\n",
    "      % mse)\n",
    "# The coefficient of determination: 1 is perfect prediction\n",
    "print('Coefficient of determination: %.2f'\n",
    "      % rsq)"
   ]
  }
 ],
 "metadata": {
  "kernelspec": {
   "display_name": "Python 3",
   "language": "python",
   "name": "python3"
  },
  "language_info": {
   "codemirror_mode": {
    "name": "ipython",
    "version": 3
   },
   "file_extension": ".py",
   "mimetype": "text/x-python",
   "name": "python",
   "nbconvert_exporter": "python",
   "pygments_lexer": "ipython3",
   "version": "3.7.4"
  }
 },
 "nbformat": 4,
 "nbformat_minor": 2
}
